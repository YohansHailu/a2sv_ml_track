{
  "cells": [
    {
      "cell_type": "markdown",
      "metadata": {
        "id": "view-in-github",
        "colab_type": "text"
      },
      "source": [
        "<a href=\"https://colab.research.google.com/github/YohansHailu/a2sv_ml_track/blob/main/Checkpoints.ipynb\" target=\"_parent\"><img src=\"https://colab.research.google.com/assets/colab-badge.svg\" alt=\"Open In Colab\"/></a>"
      ]
    },
    {
      "cell_type": "markdown",
      "id": "70d68298",
      "metadata": {
        "id": "70d68298"
      },
      "source": [
        "# Checkpoints"
      ]
    },
    {
      "cell_type": "markdown",
      "id": "67d0260a",
      "metadata": {
        "id": "67d0260a"
      },
      "source": [
        "**CP1**:\n",
        "Given the list $[A, B, C]$, use the `itertools` module to generate all possible\n",
        "combinations of 2 elements.\n",
        "\n",
        "**Expected Output**:\n",
        "$$\n",
        " (A, B) \\\\\n",
        " (A, C) \\\\\n",
        " (B, C)\n",
        "$$"
      ]
    },
    {
      "cell_type": "code",
      "execution_count": 4,
      "id": "9dd63d67",
      "metadata": {
        "id": "9dd63d67",
        "outputId": "9a7f2ec5-bcb3-430e-e6d2-1fbb59b3e58d",
        "colab": {
          "base_uri": "https://localhost:8080/"
        }
      },
      "outputs": [
        {
          "output_type": "execute_result",
          "data": {
            "text/plain": [
              "[('A', 'B'), ('A', 'C'), ('A', 'D'), ('B', 'C'), ('B', 'D'), ('C', 'D')]"
            ]
          },
          "metadata": {},
          "execution_count": 4
        }
      ],
      "source": [
        "#your code here\n",
        "import itertools\n",
        "arr = [\"A\",\"B\",\"C\",\"D\"]\n",
        "combos = []\n",
        "for val in itertools.combinations(arr,2):\n",
        "  combos.append(val)\n",
        "\n",
        "combos"
      ]
    },
    {
      "cell_type": "markdown",
      "id": "31c15dce",
      "metadata": {
        "id": "31c15dce"
      },
      "source": [
        "**CP2**:\n",
        "Use the `itertools` module to create a sequence that cycles through\n",
        "['Python', 'is', 'fun'] infinitely. Print the first 10 elements of the sequence.\n",
        "\n",
        "**Expected Output**:\n",
        "$$\n",
        "Python \\\\\n",
        "is\\\\\n",
        "fun\\\\\n",
        "Python\\\\\n",
        "is\\\\\n",
        "fun\\\\\n",
        "Python\\\\\n",
        "is\\\\\n",
        "fun\\\\\n",
        "Python\n",
        "$$"
      ]
    },
    {
      "cell_type": "code",
      "execution_count": 9,
      "id": "c75f246c",
      "metadata": {
        "id": "c75f246c",
        "outputId": "5cb34c19-d6bf-4565-afb8-a1bf9da317eb",
        "colab": {
          "base_uri": "https://localhost:8080/"
        }
      },
      "outputs": [
        {
          "output_type": "stream",
          "name": "stdout",
          "text": [
            "Python\n",
            "is\n",
            "fun\n",
            "Python\n",
            "is\n",
            "fun\n",
            "Python\n",
            "is\n",
            "fun\n",
            "Python\n",
            "is\n",
            "fun\n"
          ]
        }
      ],
      "source": [
        "#your code here\n",
        "str_arr = ['Python', 'is', 'fun']\n",
        "str_arr_inf = itertools.cycle(str_arr)\n",
        "for i in range(12):\n",
        "  print(next(str_arr_inf))"
      ]
    },
    {
      "cell_type": "markdown",
      "id": "cbef0f63",
      "metadata": {
        "id": "cbef0f63"
      },
      "source": [
        "**CP3**:\n",
        "Use the `glob` module to list all python (.py) files in your current working directory.\n",
        "\n",
        "\n"
      ]
    },
    {
      "cell_type": "code",
      "execution_count": 22,
      "id": "3e62d5b4",
      "metadata": {
        "id": "3e62d5b4",
        "outputId": "dfbb4f22-7cf3-4435-b3ae-21c1061ec87e",
        "colab": {
          "base_uri": "https://localhost:8080/"
        }
      },
      "outputs": [
        {
          "output_type": "stream",
          "name": "stdout",
          "text": [
            "/content\n",
            "['.config', 'sample_data']\n",
            "None\n",
            "['mnist_train_small.csv', 'mnist_test.csv', 'california_housing_test.csv', 'california_housing_train.csv']\n"
          ]
        },
        {
          "output_type": "execute_result",
          "data": {
            "text/plain": [
              "[]"
            ]
          },
          "metadata": {},
          "execution_count": 22
        }
      ],
      "source": [
        "#your code here\n",
        "# just testing here\n",
        "import os\n",
        "print(os.getcwd())\n",
        "print(os.listdir())\n",
        "\n",
        "\n",
        "import glob\n",
        "test_ = glob.glob('*.csv',root_dir=\"./sample_data\", recursive=True)\n",
        "print(test_)\n",
        "\n",
        "glob.glob('*.py')"
      ]
    },
    {
      "cell_type": "markdown",
      "id": "d266d698",
      "metadata": {
        "id": "d266d698"
      },
      "source": [
        "**CP4**: You are given the following HTML content below. Write a function that uses BeautifulSoup to parse the HTML and extract the text inside the   '$<p>$'   tag.\n"
      ]
    },
    {
      "cell_type": "code",
      "execution_count": null,
      "id": "27f941c8",
      "metadata": {
        "id": "27f941c8"
      },
      "outputs": [],
      "source": [
        "#<html><body><div class='main'><h1>Welcome to AI</h1><p>AI is transforming the world</p></div></body></html>"
      ]
    },
    {
      "cell_type": "code",
      "execution_count": 30,
      "id": "6fb1cdcf",
      "metadata": {
        "id": "6fb1cdcf",
        "outputId": "8c2f2485-32c6-4110-dcac-adc7fd57190e",
        "colab": {
          "base_uri": "https://localhost:8080/"
        }
      },
      "outputs": [
        {
          "output_type": "stream",
          "name": "stdout",
          "text": [
            "AI is transforming the world\n",
            "AI is transforming the world\n"
          ]
        }
      ],
      "source": [
        "#your code here\n",
        "page = \"<html><body><div class='main'><h1>Welcome to AI</h1><p>AI is transforming the world</p></div></body></html>\"\n",
        "from bs4 import BeautifulSoup as bs\n",
        "soup = bs(page)\n",
        "#print(soup.prettify())\n",
        "\n",
        "text = soup.p.string\n",
        "print(text)\n",
        "\n",
        "print(soup(\"p\")[0].string)"
      ]
    },
    {
      "cell_type": "markdown",
      "id": "a1fce3ef",
      "metadata": {
        "id": "a1fce3ef"
      },
      "source": [
        "**CP5**: Write a function that uses the re module to replace all occurrences of the word \"AI\" with \"Artificial Intelligence\" in a given text."
      ]
    },
    {
      "cell_type": "code",
      "execution_count": 34,
      "id": "07178a2d",
      "metadata": {
        "id": "07178a2d",
        "outputId": "2a54b38b-5eed-4071-b482-33a364ef70b2",
        "colab": {
          "base_uri": "https://localhost:8080/",
          "height": 78
        }
      },
      "outputs": [
        {
          "output_type": "stream",
          "name": "stdout",
          "text": [
            "['AI', 'AI', 'AI', 'AI', 'AI']\n"
          ]
        },
        {
          "output_type": "execute_result",
          "data": {
            "text/plain": [
              "'Artificial Intelligence for a long time Artificial Intelligence. Has been through.Artificial Intelligence this AcI, blah blah Artificial Intelligence.Artificial Intelligence'"
            ],
            "application/vnd.google.colaboratory.intrinsic+json": {
              "type": "string"
            }
          },
          "metadata": {},
          "execution_count": 34
        }
      ],
      "source": [
        "#your code here\n",
        "test_str = \"AI for a long time AI. Has been through.AI this AcI, blah blah AI.AI\"\n",
        "import re\n",
        "res = re.findall(\"AI\", test_str)\n",
        "print(res)\n",
        "\n",
        "\n",
        "long_str = re.sub(\"AI\",\"Artificial Intelligence\", test_str )\n",
        "long_str"
      ]
    },
    {
      "cell_type": "markdown",
      "id": "4e471de6",
      "metadata": {
        "id": "4e471de6"
      },
      "source": [
        "**CP6**: Create a numpy array of 10 zeros."
      ]
    },
    {
      "cell_type": "code",
      "execution_count": 38,
      "id": "7f6e9acb",
      "metadata": {
        "id": "7f6e9acb",
        "outputId": "0e46c3e8-fe12-4382-b20c-95ce8317e5c8",
        "colab": {
          "base_uri": "https://localhost:8080/"
        }
      },
      "outputs": [
        {
          "output_type": "stream",
          "name": "stdout",
          "text": [
            "[0 0 0 0 0 0 0 0 0 0]\n"
          ]
        },
        {
          "output_type": "execute_result",
          "data": {
            "text/plain": [
              "array([0, 0, 0, 0, 0, 0, 0, 0, 0, 0])"
            ]
          },
          "metadata": {},
          "execution_count": 38
        }
      ],
      "source": [
        "#your code here\n",
        "import numpy as np\n",
        "ten_zeros = np.zeros(10, dtype=\"int\")\n",
        "print(ten_zeros)\n",
        "\n",
        "ten_zeros = np.arange(10, dtype=\"int\") * 0\n",
        "ten_zeros"
      ]
    },
    {
      "cell_type": "markdown",
      "id": "5f52a63e",
      "metadata": {
        "id": "5f52a63e"
      },
      "source": [
        "**CP7** Create a numpy array of the integers from 10 to 49."
      ]
    },
    {
      "cell_type": "code",
      "execution_count": 39,
      "id": "ddb01e9a",
      "metadata": {
        "id": "ddb01e9a",
        "outputId": "13328801-f100-4c0c-c4d8-cd8440e087e1",
        "colab": {
          "base_uri": "https://localhost:8080/"
        }
      },
      "outputs": [
        {
          "output_type": "execute_result",
          "data": {
            "text/plain": [
              "array([10, 11, 12, 13, 14, 15, 16, 17, 18, 19, 20, 21, 22, 23, 24, 25, 26,\n",
              "       27, 28, 29, 30, 31, 32, 33, 34, 35, 36, 37, 38, 39, 40, 41, 42, 43,\n",
              "       44, 45, 46, 47, 48])"
            ]
          },
          "metadata": {},
          "execution_count": 39
        }
      ],
      "source": [
        "#your code here\n",
        "r_nums = np.arange(10, 49)\n",
        "r_nums"
      ]
    },
    {
      "cell_type": "markdown",
      "id": "79e4d614",
      "metadata": {
        "id": "79e4d614"
      },
      "source": [
        "**CP8**: Create a 3x3 numpy matrix, filled with values ranging from 0 to 8."
      ]
    },
    {
      "cell_type": "code",
      "execution_count": 43,
      "id": "d3eddea4",
      "metadata": {
        "id": "d3eddea4",
        "outputId": "67a698eb-a1d9-4030-e631-e21ccccee71a",
        "colab": {
          "base_uri": "https://localhost:8080/"
        }
      },
      "outputs": [
        {
          "output_type": "execute_result",
          "data": {
            "text/plain": [
              "array([[1.12743631, 3.6146836 , 1.84284513],\n",
              "       [4.29872796, 5.32052381, 1.56455794],\n",
              "       [0.81027525, 2.5884969 , 2.54621363]])"
            ]
          },
          "metadata": {},
          "execution_count": 43
        }
      ],
      "source": [
        "#your code here\n",
        "eight_mat = np.random.random((3,3)) * 8\n",
        "eight_mat"
      ]
    },
    {
      "cell_type": "markdown",
      "id": "1b09270f",
      "metadata": {
        "id": "1b09270f"
      },
      "source": [
        "**CP9**: Explain why machine learning models require large amounts of data? What does it mean for an amount of data to be **large**?"
      ]
    },
    {
      "cell_type": "code",
      "execution_count": 45,
      "id": "a57e9726",
      "metadata": {
        "id": "a57e9726"
      },
      "outputs": [],
      "source": [
        "#Models are designed to learn from data, but they can only be as smart as the information they're given.\n",
        "#Even the most sophisticated models won't be able to perform well if they're trained on a small amount of data."
      ]
    },
    {
      "cell_type": "markdown",
      "id": "1a357bde",
      "metadata": {
        "id": "1a357bde"
      },
      "source": [
        "**CP10**: Explain 2 ways AI can be used in an adverserial way, and what can be done to prevent it."
      ]
    },
    {
      "cell_type": "code",
      "execution_count": 50,
      "id": "a9db70af",
      "metadata": {
        "id": "a9db70af"
      },
      "outputs": [],
      "source": [
        "#1 If the data used to train an AI model is skewed or incomplete, it may not be able to make fair or accurate predictions for certail groups.\n",
        "#2 If we ever reach a stage of true artificial general intelligence (AGI), these machines may not care about us humans.\n",
        "#3 The rise of powerful AI in certain countries has potential implications for global power dynamics."
      ]
    },
    {
      "cell_type": "code",
      "source": [],
      "metadata": {
        "id": "ZzipBa7QDquU"
      },
      "id": "ZzipBa7QDquU",
      "execution_count": null,
      "outputs": []
    }
  ],
  "metadata": {
    "kernelspec": {
      "display_name": "Python 3 (ipykernel)",
      "language": "python",
      "name": "python3"
    },
    "language_info": {
      "codemirror_mode": {
        "name": "ipython",
        "version": 3
      },
      "file_extension": ".py",
      "mimetype": "text/x-python",
      "name": "python",
      "nbconvert_exporter": "python",
      "pygments_lexer": "ipython3",
      "version": "3.8.2"
    },
    "varInspector": {
      "cols": {
        "lenName": 16,
        "lenType": 16,
        "lenVar": 40
      },
      "kernels_config": {
        "python": {
          "delete_cmd_postfix": "",
          "delete_cmd_prefix": "del ",
          "library": "var_list.py",
          "varRefreshCmd": "print(var_dic_list())"
        },
        "r": {
          "delete_cmd_postfix": ") ",
          "delete_cmd_prefix": "rm(",
          "library": "var_list.r",
          "varRefreshCmd": "cat(var_dic_list()) "
        }
      },
      "types_to_exclude": [
        "module",
        "function",
        "builtin_function_or_method",
        "instance",
        "_Feature"
      ],
      "window_display": false
    },
    "colab": {
      "provenance": [],
      "include_colab_link": true
    }
  },
  "nbformat": 4,
  "nbformat_minor": 5
}