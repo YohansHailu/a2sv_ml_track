{
  "cells": [
    {
      "cell_type": "markdown",
      "metadata": {
        "id": "view-in-github",
        "colab_type": "text"
      },
      "source": [
        "<a href=\"https://colab.research.google.com/github/YohansHailu/a2sv_ml_track/blob/main/on_bloarding_imdb.ipynb\" target=\"_parent\"><img src=\"https://colab.research.google.com/assets/colab-badge.svg\" alt=\"Open In Colab\"/></a>"
      ]
    },
    {
      "cell_type": "code",
      "execution_count": 4,
      "id": "f2c2a5a3",
      "metadata": {
        "colab": {
          "base_uri": "https://localhost:8080/"
        },
        "id": "f2c2a5a3",
        "outputId": "a4f77f31-9110-4cdb-864c-a1c1c7fe0c7d"
      },
      "outputs": [
        {
          "output_type": "stream",
          "name": "stdout",
          "text": [
            "Exception reporting mode: Minimal\n"
          ]
        }
      ],
      "source": [
        "##\n",
        "import os\n",
        "os.environ['TF_CPP_MIN_LOG_LEVEL'] = '2'\n",
        "%xmode Minimal"
      ]
    },
    {
      "cell_type": "code",
      "execution_count": 5,
      "id": "8db3a3bb",
      "metadata": {
        "id": "8db3a3bb"
      },
      "outputs": [],
      "source": [
        "##\n",
        "import pandas as pd "
      ]
    },
    {
      "cell_type": "code",
      "execution_count": 9,
      "id": "7533f855",
      "metadata": {
        "id": "7533f855"
      },
      "outputs": [],
      "source": [
        "imdb_top = pd.read_csv(\"./imdb_top_1000.csv\")"
      ]
    },
    {
      "cell_type": "code",
      "execution_count": 10,
      "id": "57314247",
      "metadata": {
        "colab": {
          "base_uri": "https://localhost:8080/",
          "height": 485
        },
        "id": "57314247",
        "outputId": "e343884e-057f-40ac-9306-a954796bbd9c"
      },
      "outputs": [
        {
          "output_type": "execute_result",
          "data": {
            "text/plain": [
              "                                         Poster_Link  \\\n",
              "0  https://m.media-amazon.com/images/M/MV5BMDFkYT...   \n",
              "1  https://m.media-amazon.com/images/M/MV5BM2MyNj...   \n",
              "2  https://m.media-amazon.com/images/M/MV5BMTMxNT...   \n",
              "\n",
              "               Series_Title Released_Year Certificate  Runtime  \\\n",
              "0  The Shawshank Redemption          1994           A  142 min   \n",
              "1             The Godfather          1972           A  175 min   \n",
              "2           The Dark Knight          2008          UA  152 min   \n",
              "\n",
              "                  Genre  IMDB_Rating  \\\n",
              "0                 Drama          9.3   \n",
              "1          Crime, Drama          9.2   \n",
              "2  Action, Crime, Drama          9.0   \n",
              "\n",
              "                                            Overview  Meta_score  \\\n",
              "0  Two imprisoned men bond over a number of years...        80.0   \n",
              "1  An organized crime dynasty's aging patriarch t...       100.0   \n",
              "2  When the menace known as the Joker wreaks havo...        84.0   \n",
              "\n",
              "               Director           Star1           Star2          Star3  \\\n",
              "0        Frank Darabont     Tim Robbins  Morgan Freeman     Bob Gunton   \n",
              "1  Francis Ford Coppola   Marlon Brando       Al Pacino     James Caan   \n",
              "2     Christopher Nolan  Christian Bale    Heath Ledger  Aaron Eckhart   \n",
              "\n",
              "            Star4  No_of_Votes        Gross  \n",
              "0  William Sadler      2343110   28,341,469  \n",
              "1    Diane Keaton      1620367  134,966,411  \n",
              "2   Michael Caine      2303232  534,858,444  "
            ],
            "text/html": [
              "\n",
              "  <div id=\"df-fe130490-19ad-437c-8369-006331a6a487\">\n",
              "    <div class=\"colab-df-container\">\n",
              "      <div>\n",
              "<style scoped>\n",
              "    .dataframe tbody tr th:only-of-type {\n",
              "        vertical-align: middle;\n",
              "    }\n",
              "\n",
              "    .dataframe tbody tr th {\n",
              "        vertical-align: top;\n",
              "    }\n",
              "\n",
              "    .dataframe thead th {\n",
              "        text-align: right;\n",
              "    }\n",
              "</style>\n",
              "<table border=\"1\" class=\"dataframe\">\n",
              "  <thead>\n",
              "    <tr style=\"text-align: right;\">\n",
              "      <th></th>\n",
              "      <th>Poster_Link</th>\n",
              "      <th>Series_Title</th>\n",
              "      <th>Released_Year</th>\n",
              "      <th>Certificate</th>\n",
              "      <th>Runtime</th>\n",
              "      <th>Genre</th>\n",
              "      <th>IMDB_Rating</th>\n",
              "      <th>Overview</th>\n",
              "      <th>Meta_score</th>\n",
              "      <th>Director</th>\n",
              "      <th>Star1</th>\n",
              "      <th>Star2</th>\n",
              "      <th>Star3</th>\n",
              "      <th>Star4</th>\n",
              "      <th>No_of_Votes</th>\n",
              "      <th>Gross</th>\n",
              "    </tr>\n",
              "  </thead>\n",
              "  <tbody>\n",
              "    <tr>\n",
              "      <th>0</th>\n",
              "      <td>https://m.media-amazon.com/images/M/MV5BMDFkYT...</td>\n",
              "      <td>The Shawshank Redemption</td>\n",
              "      <td>1994</td>\n",
              "      <td>A</td>\n",
              "      <td>142 min</td>\n",
              "      <td>Drama</td>\n",
              "      <td>9.3</td>\n",
              "      <td>Two imprisoned men bond over a number of years...</td>\n",
              "      <td>80.0</td>\n",
              "      <td>Frank Darabont</td>\n",
              "      <td>Tim Robbins</td>\n",
              "      <td>Morgan Freeman</td>\n",
              "      <td>Bob Gunton</td>\n",
              "      <td>William Sadler</td>\n",
              "      <td>2343110</td>\n",
              "      <td>28,341,469</td>\n",
              "    </tr>\n",
              "    <tr>\n",
              "      <th>1</th>\n",
              "      <td>https://m.media-amazon.com/images/M/MV5BM2MyNj...</td>\n",
              "      <td>The Godfather</td>\n",
              "      <td>1972</td>\n",
              "      <td>A</td>\n",
              "      <td>175 min</td>\n",
              "      <td>Crime, Drama</td>\n",
              "      <td>9.2</td>\n",
              "      <td>An organized crime dynasty's aging patriarch t...</td>\n",
              "      <td>100.0</td>\n",
              "      <td>Francis Ford Coppola</td>\n",
              "      <td>Marlon Brando</td>\n",
              "      <td>Al Pacino</td>\n",
              "      <td>James Caan</td>\n",
              "      <td>Diane Keaton</td>\n",
              "      <td>1620367</td>\n",
              "      <td>134,966,411</td>\n",
              "    </tr>\n",
              "    <tr>\n",
              "      <th>2</th>\n",
              "      <td>https://m.media-amazon.com/images/M/MV5BMTMxNT...</td>\n",
              "      <td>The Dark Knight</td>\n",
              "      <td>2008</td>\n",
              "      <td>UA</td>\n",
              "      <td>152 min</td>\n",
              "      <td>Action, Crime, Drama</td>\n",
              "      <td>9.0</td>\n",
              "      <td>When the menace known as the Joker wreaks havo...</td>\n",
              "      <td>84.0</td>\n",
              "      <td>Christopher Nolan</td>\n",
              "      <td>Christian Bale</td>\n",
              "      <td>Heath Ledger</td>\n",
              "      <td>Aaron Eckhart</td>\n",
              "      <td>Michael Caine</td>\n",
              "      <td>2303232</td>\n",
              "      <td>534,858,444</td>\n",
              "    </tr>\n",
              "  </tbody>\n",
              "</table>\n",
              "</div>\n",
              "      <button class=\"colab-df-convert\" onclick=\"convertToInteractive('df-fe130490-19ad-437c-8369-006331a6a487')\"\n",
              "              title=\"Convert this dataframe to an interactive table.\"\n",
              "              style=\"display:none;\">\n",
              "        \n",
              "  <svg xmlns=\"http://www.w3.org/2000/svg\" height=\"24px\"viewBox=\"0 0 24 24\"\n",
              "       width=\"24px\">\n",
              "    <path d=\"M0 0h24v24H0V0z\" fill=\"none\"/>\n",
              "    <path d=\"M18.56 5.44l.94 2.06.94-2.06 2.06-.94-2.06-.94-.94-2.06-.94 2.06-2.06.94zm-11 1L8.5 8.5l.94-2.06 2.06-.94-2.06-.94L8.5 2.5l-.94 2.06-2.06.94zm10 10l.94 2.06.94-2.06 2.06-.94-2.06-.94-.94-2.06-.94 2.06-2.06.94z\"/><path d=\"M17.41 7.96l-1.37-1.37c-.4-.4-.92-.59-1.43-.59-.52 0-1.04.2-1.43.59L10.3 9.45l-7.72 7.72c-.78.78-.78 2.05 0 2.83L4 21.41c.39.39.9.59 1.41.59.51 0 1.02-.2 1.41-.59l7.78-7.78 2.81-2.81c.8-.78.8-2.07 0-2.86zM5.41 20L4 18.59l7.72-7.72 1.47 1.35L5.41 20z\"/>\n",
              "  </svg>\n",
              "      </button>\n",
              "      \n",
              "  <style>\n",
              "    .colab-df-container {\n",
              "      display:flex;\n",
              "      flex-wrap:wrap;\n",
              "      gap: 12px;\n",
              "    }\n",
              "\n",
              "    .colab-df-convert {\n",
              "      background-color: #E8F0FE;\n",
              "      border: none;\n",
              "      border-radius: 50%;\n",
              "      cursor: pointer;\n",
              "      display: none;\n",
              "      fill: #1967D2;\n",
              "      height: 32px;\n",
              "      padding: 0 0 0 0;\n",
              "      width: 32px;\n",
              "    }\n",
              "\n",
              "    .colab-df-convert:hover {\n",
              "      background-color: #E2EBFA;\n",
              "      box-shadow: 0px 1px 2px rgba(60, 64, 67, 0.3), 0px 1px 3px 1px rgba(60, 64, 67, 0.15);\n",
              "      fill: #174EA6;\n",
              "    }\n",
              "\n",
              "    [theme=dark] .colab-df-convert {\n",
              "      background-color: #3B4455;\n",
              "      fill: #D2E3FC;\n",
              "    }\n",
              "\n",
              "    [theme=dark] .colab-df-convert:hover {\n",
              "      background-color: #434B5C;\n",
              "      box-shadow: 0px 1px 3px 1px rgba(0, 0, 0, 0.15);\n",
              "      filter: drop-shadow(0px 1px 2px rgba(0, 0, 0, 0.3));\n",
              "      fill: #FFFFFF;\n",
              "    }\n",
              "  </style>\n",
              "\n",
              "      <script>\n",
              "        const buttonEl =\n",
              "          document.querySelector('#df-fe130490-19ad-437c-8369-006331a6a487 button.colab-df-convert');\n",
              "        buttonEl.style.display =\n",
              "          google.colab.kernel.accessAllowed ? 'block' : 'none';\n",
              "\n",
              "        async function convertToInteractive(key) {\n",
              "          const element = document.querySelector('#df-fe130490-19ad-437c-8369-006331a6a487');\n",
              "          const dataTable =\n",
              "            await google.colab.kernel.invokeFunction('convertToInteractive',\n",
              "                                                     [key], {});\n",
              "          if (!dataTable) return;\n",
              "\n",
              "          const docLinkHtml = 'Like what you see? Visit the ' +\n",
              "            '<a target=\"_blank\" href=https://colab.research.google.com/notebooks/data_table.ipynb>data table notebook</a>'\n",
              "            + ' to learn more about interactive tables.';\n",
              "          element.innerHTML = '';\n",
              "          dataTable['output_type'] = 'display_data';\n",
              "          await google.colab.output.renderOutput(dataTable, element);\n",
              "          const docLink = document.createElement('div');\n",
              "          docLink.innerHTML = docLinkHtml;\n",
              "          element.appendChild(docLink);\n",
              "        }\n",
              "      </script>\n",
              "    </div>\n",
              "  </div>\n",
              "  "
            ]
          },
          "metadata": {},
          "execution_count": 10
        }
      ],
      "source": [
        "##\n",
        "imdb_top.head(3)"
      ]
    },
    {
      "cell_type": "code",
      "execution_count": 11,
      "id": "74c2f8eb",
      "metadata": {
        "lines_to_next_cell": 2,
        "id": "74c2f8eb",
        "colab": {
          "base_uri": "https://localhost:8080/"
        },
        "outputId": "4676a071-07f5-4dc6-aa17-02068e608e47"
      },
      "outputs": [
        {
          "output_type": "execute_result",
          "data": {
            "text/plain": [
              "['Poster_Link',\n",
              " 'Series_Title',\n",
              " 'Released_Year',\n",
              " 'Certificate',\n",
              " 'Runtime',\n",
              " 'Genre',\n",
              " 'IMDB_Rating',\n",
              " 'Overview',\n",
              " 'Meta_score',\n",
              " 'Director',\n",
              " 'Star1',\n",
              " 'Star2',\n",
              " 'Star3',\n",
              " 'Star4',\n",
              " 'No_of_Votes',\n",
              " 'Gross']"
            ]
          },
          "metadata": {},
          "execution_count": 11
        }
      ],
      "source": [
        "## name of the columns\n",
        "columns_names = list(imdb_top.columns)\n",
        "columns_names"
      ]
    },
    {
      "cell_type": "code",
      "execution_count": 12,
      "id": "e72747bd",
      "metadata": {
        "id": "e72747bd"
      },
      "outputs": [],
      "source": [
        "## average rating\n",
        "rating_average = imdb_top[\"IMDB_Rating\"].mean()"
      ]
    },
    {
      "cell_type": "code",
      "execution_count": 13,
      "id": "0593a2a9",
      "metadata": {
        "lines_to_next_cell": 2,
        "colab": {
          "base_uri": "https://localhost:8080/"
        },
        "id": "0593a2a9",
        "outputId": "96e95c92-ea8a-492c-e104-fce4322d626c"
      },
      "outputs": [
        {
          "output_type": "execute_result",
          "data": {
            "text/plain": [
              "0                   Drama\n",
              "1            Crime, Drama\n",
              "2    Action, Crime, Drama\n",
              "3            Crime, Drama\n",
              "4            Crime, Drama\n",
              "Name: Genre, dtype: object"
            ]
          },
          "metadata": {},
          "execution_count": 13
        }
      ],
      "source": [
        "##\n",
        "imdb_top[\"Genre\"].head()"
      ]
    },
    {
      "cell_type": "code",
      "execution_count": 14,
      "id": "03cc1e03",
      "metadata": {
        "id": "03cc1e03",
        "colab": {
          "base_uri": "https://localhost:8080/"
        },
        "outputId": "a82690ec-5ea8-491e-b339-0e214514b3f6"
      },
      "outputs": [
        {
          "output_type": "stream",
          "name": "stdout",
          "text": [
            "['Drama', 'Thriller', 'Romance', 'Adventure', 'Action', 'Comedy', 'Biography', 'Fantasy', 'Family', 'Mystery', 'Musical', 'Horror', 'Sport', 'Music', 'Film-Noir', 'Western', 'Crime', 'Animation', 'History', 'War', 'Sci-Fi']\n"
          ]
        }
      ],
      "source": [
        "uniq_genres  = set()\n",
        "for row in imdb_top[\"Genre\"]:\n",
        "    for genre_name in set(row.split(\",\")):\n",
        "        uniq_genres.add(genre_name.strip())\n",
        "\n",
        "uniq_genres = list(uniq_genres)\n",
        "print(uniq_genres)\n"
      ]
    },
    {
      "cell_type": "code",
      "execution_count": 15,
      "id": "e3a018e4",
      "metadata": {
        "colab": {
          "base_uri": "https://localhost:8080/"
        },
        "id": "e3a018e4",
        "outputId": "d97710c1-5927-46ca-fe79-0e674603e573"
      },
      "outputs": [
        {
          "output_type": "stream",
          "name": "stdout",
          "text": [
            "['Drama', 'Thriller', 'Romance', 'Adventure', 'Action', 'Comedy', 'Biography', 'Fantasy', 'Family', 'Mystery', 'Musical', 'Horror', 'Sport', 'Music', 'Film-Noir', 'Western', 'Crime', 'Animation', 'History', 'War', 'Sci-Fi']\n"
          ]
        }
      ],
      "source": [
        "uniq_genres = list(uniq_genres)\n",
        "print(uniq_genres)"
      ]
    },
    {
      "cell_type": "code",
      "execution_count": 16,
      "id": "4c21a8a7",
      "metadata": {
        "colab": {
          "base_uri": "https://localhost:8080/",
          "height": 80
        },
        "id": "4c21a8a7",
        "outputId": "2fbb2ec9-3b23-4e1d-c772-d20b08f871d7"
      },
      "outputs": [
        {
          "output_type": "execute_result",
          "data": {
            "text/plain": [
              "   rating_average                                      columns_names  \\\n",
              "0          7.9493  Poster_Link,Series_Title,Released_Year,Certifi...   \n",
              "\n",
              "                                     all_uniq_genres  \n",
              "0  Drama,Thriller,Romance,Adventure,Action,Comedy...  "
            ],
            "text/html": [
              "\n",
              "  <div id=\"df-6effa5bd-7cd3-4ccc-8367-c56817b4dd42\">\n",
              "    <div class=\"colab-df-container\">\n",
              "      <div>\n",
              "<style scoped>\n",
              "    .dataframe tbody tr th:only-of-type {\n",
              "        vertical-align: middle;\n",
              "    }\n",
              "\n",
              "    .dataframe tbody tr th {\n",
              "        vertical-align: top;\n",
              "    }\n",
              "\n",
              "    .dataframe thead th {\n",
              "        text-align: right;\n",
              "    }\n",
              "</style>\n",
              "<table border=\"1\" class=\"dataframe\">\n",
              "  <thead>\n",
              "    <tr style=\"text-align: right;\">\n",
              "      <th></th>\n",
              "      <th>rating_average</th>\n",
              "      <th>columns_names</th>\n",
              "      <th>all_uniq_genres</th>\n",
              "    </tr>\n",
              "  </thead>\n",
              "  <tbody>\n",
              "    <tr>\n",
              "      <th>0</th>\n",
              "      <td>7.9493</td>\n",
              "      <td>Poster_Link,Series_Title,Released_Year,Certifi...</td>\n",
              "      <td>Drama,Thriller,Romance,Adventure,Action,Comedy...</td>\n",
              "    </tr>\n",
              "  </tbody>\n",
              "</table>\n",
              "</div>\n",
              "      <button class=\"colab-df-convert\" onclick=\"convertToInteractive('df-6effa5bd-7cd3-4ccc-8367-c56817b4dd42')\"\n",
              "              title=\"Convert this dataframe to an interactive table.\"\n",
              "              style=\"display:none;\">\n",
              "        \n",
              "  <svg xmlns=\"http://www.w3.org/2000/svg\" height=\"24px\"viewBox=\"0 0 24 24\"\n",
              "       width=\"24px\">\n",
              "    <path d=\"M0 0h24v24H0V0z\" fill=\"none\"/>\n",
              "    <path d=\"M18.56 5.44l.94 2.06.94-2.06 2.06-.94-2.06-.94-.94-2.06-.94 2.06-2.06.94zm-11 1L8.5 8.5l.94-2.06 2.06-.94-2.06-.94L8.5 2.5l-.94 2.06-2.06.94zm10 10l.94 2.06.94-2.06 2.06-.94-2.06-.94-.94-2.06-.94 2.06-2.06.94z\"/><path d=\"M17.41 7.96l-1.37-1.37c-.4-.4-.92-.59-1.43-.59-.52 0-1.04.2-1.43.59L10.3 9.45l-7.72 7.72c-.78.78-.78 2.05 0 2.83L4 21.41c.39.39.9.59 1.41.59.51 0 1.02-.2 1.41-.59l7.78-7.78 2.81-2.81c.8-.78.8-2.07 0-2.86zM5.41 20L4 18.59l7.72-7.72 1.47 1.35L5.41 20z\"/>\n",
              "  </svg>\n",
              "      </button>\n",
              "      \n",
              "  <style>\n",
              "    .colab-df-container {\n",
              "      display:flex;\n",
              "      flex-wrap:wrap;\n",
              "      gap: 12px;\n",
              "    }\n",
              "\n",
              "    .colab-df-convert {\n",
              "      background-color: #E8F0FE;\n",
              "      border: none;\n",
              "      border-radius: 50%;\n",
              "      cursor: pointer;\n",
              "      display: none;\n",
              "      fill: #1967D2;\n",
              "      height: 32px;\n",
              "      padding: 0 0 0 0;\n",
              "      width: 32px;\n",
              "    }\n",
              "\n",
              "    .colab-df-convert:hover {\n",
              "      background-color: #E2EBFA;\n",
              "      box-shadow: 0px 1px 2px rgba(60, 64, 67, 0.3), 0px 1px 3px 1px rgba(60, 64, 67, 0.15);\n",
              "      fill: #174EA6;\n",
              "    }\n",
              "\n",
              "    [theme=dark] .colab-df-convert {\n",
              "      background-color: #3B4455;\n",
              "      fill: #D2E3FC;\n",
              "    }\n",
              "\n",
              "    [theme=dark] .colab-df-convert:hover {\n",
              "      background-color: #434B5C;\n",
              "      box-shadow: 0px 1px 3px 1px rgba(0, 0, 0, 0.15);\n",
              "      filter: drop-shadow(0px 1px 2px rgba(0, 0, 0, 0.3));\n",
              "      fill: #FFFFFF;\n",
              "    }\n",
              "  </style>\n",
              "\n",
              "      <script>\n",
              "        const buttonEl =\n",
              "          document.querySelector('#df-6effa5bd-7cd3-4ccc-8367-c56817b4dd42 button.colab-df-convert');\n",
              "        buttonEl.style.display =\n",
              "          google.colab.kernel.accessAllowed ? 'block' : 'none';\n",
              "\n",
              "        async function convertToInteractive(key) {\n",
              "          const element = document.querySelector('#df-6effa5bd-7cd3-4ccc-8367-c56817b4dd42');\n",
              "          const dataTable =\n",
              "            await google.colab.kernel.invokeFunction('convertToInteractive',\n",
              "                                                     [key], {});\n",
              "          if (!dataTable) return;\n",
              "\n",
              "          const docLinkHtml = 'Like what you see? Visit the ' +\n",
              "            '<a target=\"_blank\" href=https://colab.research.google.com/notebooks/data_table.ipynb>data table notebook</a>'\n",
              "            + ' to learn more about interactive tables.';\n",
              "          element.innerHTML = '';\n",
              "          dataTable['output_type'] = 'display_data';\n",
              "          await google.colab.output.renderOutput(dataTable, element);\n",
              "          const docLink = document.createElement('div');\n",
              "          docLink.innerHTML = docLinkHtml;\n",
              "          element.appendChild(docLink);\n",
              "        }\n",
              "      </script>\n",
              "    </div>\n",
              "  </div>\n",
              "  "
            ]
          },
          "metadata": {},
          "execution_count": 16
        }
      ],
      "source": [
        "rows = [rating_average, \",\".join(columns_names), \",\".join(uniq_genres)]\n",
        "columns=[\"rating_average\", \"columns_names\", \"all_uniq_genres\"]\n",
        "final_result = pd.DataFrame([rows], columns=columns)\n",
        "final_result.head()\n"
      ]
    },
    {
      "cell_type": "code",
      "execution_count": 17,
      "id": "643c64f2",
      "metadata": {
        "colab": {
          "base_uri": "https://localhost:8080/"
        },
        "id": "643c64f2",
        "outputId": "27701892-97d4-4914-f201-b75dc133f160"
      },
      "outputs": [
        {
          "output_type": "stream",
          "name": "stdout",
          "text": [
            "file saved\n"
          ]
        }
      ],
      "source": [
        "final_result.to_csv(\"final_result\", index=False)\n",
        "print(\"file saved\")"
      ]
    },
    {
      "cell_type": "code",
      "source": [
        "# counting the number of movies for each genre\n",
        "genre_count = {g:0 for g in uniq_genres}\n",
        "\n",
        "for genre_row in imdb_top[\"Genre\"]:\n",
        "    for genre_name in set(genre_row.split(\",\")):\n",
        "        genre_name = genre_name.strip()\n",
        "        genre_count[genre_name] += 1\n",
        "genre_count"
      ],
      "metadata": {
        "colab": {
          "base_uri": "https://localhost:8080/"
        },
        "id": "DGcWhYlrg6LO",
        "outputId": "1b680ed1-737c-42bb-c826-50f9363fe3c7"
      },
      "id": "DGcWhYlrg6LO",
      "execution_count": 18,
      "outputs": [
        {
          "output_type": "execute_result",
          "data": {
            "text/plain": [
              "{'Drama': 724,\n",
              " 'Thriller': 137,\n",
              " 'Romance': 125,\n",
              " 'Adventure': 196,\n",
              " 'Action': 189,\n",
              " 'Comedy': 233,\n",
              " 'Biography': 109,\n",
              " 'Fantasy': 66,\n",
              " 'Family': 56,\n",
              " 'Mystery': 99,\n",
              " 'Musical': 17,\n",
              " 'Horror': 32,\n",
              " 'Sport': 19,\n",
              " 'Music': 35,\n",
              " 'Film-Noir': 19,\n",
              " 'Western': 20,\n",
              " 'Crime': 209,\n",
              " 'Animation': 82,\n",
              " 'History': 56,\n",
              " 'War': 51,\n",
              " 'Sci-Fi': 67}"
            ]
          },
          "metadata": {},
          "execution_count": 18
        }
      ]
    },
    {
      "cell_type": "code",
      "source": [
        "# sorting and seeing the distrbution of each genre using histogram but its actualy a bar\n",
        "from matplotlib import pyplot as plt\n",
        "import numpy as np\n",
        "counts = sorted(genre_count.values())\n",
        "\n",
        "plt.figure(figsize=(8, 12))\n",
        "\n",
        "sorted_genre_count = sorted(genre_count.items(), key = lambda x:x[1], reverse=True)\n",
        "\n",
        "genre_names = [element[0] for element in sorted_genre_count]\n",
        "genre_counts = [element[1] for element in sorted_genre_count]\n",
        "\n",
        "plt.barh(genre_names, genre_counts)\n"
      ],
      "metadata": {
        "colab": {
          "base_uri": "https://localhost:8080/",
          "height": 1000
        },
        "id": "6PmKL63jg-7L",
        "outputId": "94d2d15e-1d71-4874-bf18-3936a9e6a666"
      },
      "id": "6PmKL63jg-7L",
      "execution_count": 19,
      "outputs": [
        {
          "output_type": "execute_result",
          "data": {
            "text/plain": [
              "<BarContainer object of 21 artists>"
            ]
          },
          "metadata": {},
          "execution_count": 19
        },
        {
          "output_type": "display_data",
          "data": {
            "text/plain": [
              "<Figure size 800x1200 with 1 Axes>"
            ],
            "image/png": "[encoded data removed]"
          },
          "metadata": {}
        }
      ]
    },
    {
      "cell_type": "code",
      "source": [
        "##\n",
        "imdb_top.columns \n"
      ],
      "metadata": {
        "colab": {
          "base_uri": "https://localhost:8080/"
        },
        "id": "rhUjcwc7hLMO",
        "outputId": "aa57ae63-8f7a-43a6-9665-77a26d6a2445"
      },
      "id": "rhUjcwc7hLMO",
      "execution_count": 20,
      "outputs": [
        {
          "output_type": "execute_result",
          "data": {
            "text/plain": [
              "Index(['Poster_Link', 'Series_Title', 'Released_Year', 'Certificate',\n",
              "       'Runtime', 'Genre', 'IMDB_Rating', 'Overview', 'Meta_score', 'Director',\n",
              "       'Star1', 'Star2', 'Star3', 'Star4', 'No_of_Votes', 'Gross'],\n",
              "      dtype='object')"
            ]
          },
          "metadata": {},
          "execution_count": 20
        }
      ]
    },
    {
      "cell_type": "code",
      "source": [
        "\n",
        "##\n",
        "imdb_top[\"Released_Year\"]\n"
      ],
      "metadata": {
        "id": "4n5iXjnGv91d",
        "outputId": "5d09ba35-fb72-4476-a6a7-ca8663542212",
        "colab": {
          "base_uri": "https://localhost:8080/"
        }
      },
      "id": "4n5iXjnGv91d",
      "execution_count": 21,
      "outputs": [
        {
          "output_type": "execute_result",
          "data": {
            "text/plain": [
              "0      1994\n",
              "1      1972\n",
              "2      2008\n",
              "3      1974\n",
              "4      1957\n",
              "       ... \n",
              "995    1961\n",
              "996    1956\n",
              "997    1953\n",
              "998    1944\n",
              "999    1935\n",
              "Name: Released_Year, Length: 1000, dtype: object"
            ]
          },
          "metadata": {},
          "execution_count": 21
        }
      ]
    },
    {
      "cell_type": "code",
      "source": [
        "\n",
        "##\n",
        "year_count = imdb_top[\"Released_Year\"].value_counts()\n",
        "type(year_count)\n"
      ],
      "metadata": {
        "id": "9RORZkfPv--g",
        "outputId": "49b361ad-b4cd-41fc-bef2-ac5b472755c4",
        "colab": {
          "base_uri": "https://localhost:8080/"
        }
      },
      "id": "9RORZkfPv--g",
      "execution_count": 22,
      "outputs": [
        {
          "output_type": "execute_result",
          "data": {
            "text/plain": [
              "pandas.core.series.Series"
            ]
          },
          "metadata": {},
          "execution_count": 22
        }
      ]
    },
    {
      "cell_type": "code",
      "source": [
        "##\n",
        "\n",
        "year_count.head()\n",
        "##\n",
        "\n"
      ],
      "metadata": {
        "id": "5Xvcby3iwAON",
        "outputId": "ce89c73c-0ceb-42ce-d0e4-05a9ed995e9e",
        "colab": {
          "base_uri": "https://localhost:8080/"
        }
      },
      "id": "5Xvcby3iwAON",
      "execution_count": 23,
      "outputs": [
        {
          "output_type": "execute_result",
          "data": {
            "text/plain": [
              "2014    32\n",
              "2004    31\n",
              "2009    29\n",
              "2013    28\n",
              "2016    28\n",
              "Name: Released_Year, dtype: int64"
            ]
          },
          "metadata": {},
          "execution_count": 23
        }
      ]
    },
    {
      "cell_type": "code",
      "source": [
        "year_count.index\n"
      ],
      "metadata": {
        "id": "REplU-vNwBz6",
        "outputId": "457aec20-f1fb-4d49-c26a-eb74d9e6205a",
        "colab": {
          "base_uri": "https://localhost:8080/"
        }
      },
      "id": "REplU-vNwBz6",
      "execution_count": 27,
      "outputs": [
        {
          "output_type": "execute_result",
          "data": {
            "text/plain": [
              "Index(['2014', '2004', '2009', '2013', '2016', '2001', '2007', '2006', '2015',\n",
              "       '2012', '2010', '1993', '2019', '2003', '2017', '2008', '2002', '1997',\n",
              "       '1995', '2018', '2000', '2011', '2005', '1999', '1998', '1994', '1962',\n",
              "       '1992', '1973', '1991', '1979', '1987', '1988', '1960', '1989', '1982',\n",
              "       '1996', '1967', '1984', '1957', '1986', '1971', '1975', '1985', '1990',\n",
              "       '1968', '1972', '1980', '1978', '1959', '1976', '1964', '1940', '1966',\n",
              "       '1948', '1955', '1974', '2020', '1954', '1961', '1953', '1951', '1939',\n",
              "       '1956', '1946', '1963', '1983', '1950', '1944', '1952', '1958', '1965',\n",
              "       '1981', '1938', '1935', '1970', '1949', '1931', '1977', '1969', '1942',\n",
              "       '1933', '1928', '1947', '1941', '1934', '1927', '1932', '1925', '1945',\n",
              "       '1922', '1943', '1937', '1930', '1920', '1926', '1936', '1924', '1921',\n",
              "       'PG'],\n",
              "      dtype='object')"
            ]
          },
          "metadata": {},
          "execution_count": 27
        }
      ]
    },
    {
      "cell_type": "code",
      "source": [
        "fig, ax = plt.subplots(figsize=(8, 8))\n",
        "ax.set_xticklabels([])\n",
        "ax.set_xlabel('year')\n",
        "ax.set_ylabel('number of movies in top 100')\n",
        "ax.scatter(year_count.index, year_count)\n"
      ],
      "metadata": {
        "id": "EBFAVEgdwCkq",
        "outputId": "07cc6fde-46a4-40fc-8efe-fd6032500cfd",
        "colab": {
          "base_uri": "https://localhost:8080/",
          "height": 700
        }
      },
      "id": "EBFAVEgdwCkq",
      "execution_count": 29,
      "outputs": [
        {
          "output_type": "execute_result",
          "data": {
            "text/plain": [
              "<matplotlib.collections.PathCollection at 0x7feed7bec610>"
            ]
          },
          "metadata": {},
          "execution_count": 29
        },
        {
          "output_type": "display_data",
          "data": {
            "text/plain": [
              "<Figure size 800x800 with 1 Axes>"
            ],
            "image/png": "[encoded data removed]"
          },
          "metadata": {}
        }
      ]
    },
    {
      "cell_type": "code",
      "source": [],
      "metadata": {
        "id": "9KC-Kv6hwVeR"
      },
      "id": "9KC-Kv6hwVeR",
      "execution_count": null,
      "outputs": []
    }
  ],
  "metadata": {
    "jupytext": {
      "cell_metadata_filter": "-all",
      "main_language": "python",
      "notebook_metadata_filter": "-all"
    },
    "colab": {
      "provenance": [],
      "include_colab_link": true
    },
    "language_info": {
      "name": "python"
    },
    "kernelspec": {
      "name": "python3",
      "display_name": "Python 3"
    }
  },
  "nbformat": 4,
  "nbformat_minor": 5
}