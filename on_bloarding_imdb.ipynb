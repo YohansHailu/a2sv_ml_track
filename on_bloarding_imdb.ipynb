{
 "cells": [
  {
   "cell_type": "code",
   "execution_count": null,
   "id": "f2c2a5a3",
   "metadata": {},
   "outputs": [],
   "source": [
    "##\n",
    "import os\n",
    "os.environ['TF_CPP_MIN_LOG_LEVEL'] = '2'\n",
    "%xmode Minimal"
   ]
  },
  {
   "cell_type": "code",
   "execution_count": null,
   "id": "8db3a3bb",
   "metadata": {},
   "outputs": [],
   "source": [
    "##\n",
    "import pandas as pd "
   ]
  },
  {
   "cell_type": "code",
   "execution_count": null,
   "id": "7533f855",
   "metadata": {},
   "outputs": [],
   "source": [
    "imdb_top = pd.read_csv(\"./imdb_top_1000.csv\")"
   ]
  },
  {
   "cell_type": "code",
   "execution_count": null,
   "id": "57314247",
   "metadata": {},
   "outputs": [],
   "source": [
    "##\n",
    "imdb_top.head(3)"
   ]
  },
  {
   "cell_type": "code",
   "execution_count": null,
   "id": "74c2f8eb",
   "metadata": {
    "lines_to_next_cell": 2
   },
   "outputs": [],
   "source": [
    "## name of the columns\n",
    "columns_names = list(imdb_top.columns)"
   ]
  },
  {
   "cell_type": "code",
   "execution_count": null,
   "id": "e72747bd",
   "metadata": {},
   "outputs": [],
   "source": [
    "## average rating\n",
    "rating_average = imdb_top[\"IMDB_Rating\"].mean()"
   ]
  },
  {
   "cell_type": "code",
   "execution_count": null,
   "id": "0593a2a9",
   "metadata": {
    "lines_to_next_cell": 2
   },
   "outputs": [],
   "source": [
    "##\n",
    "imdb_top[\"Genre\"].head()"
   ]
  },
  {
   "cell_type": "code",
   "execution_count": null,
   "id": "03cc1e03",
   "metadata": {},
   "outputs": [],
   "source": [
    "## get all generes method-1\n",
    "uniq_genres  = set()\n",
    "for row in imdb_top[\"Genre\"]:\n",
    "    uniq_genres = uniq_genres | set(row.split(\",\"))"
   ]
  },
  {
   "cell_type": "code",
   "execution_count": null,
   "id": "e3a018e4",
   "metadata": {},
   "outputs": [],
   "source": [
    "uniq_genres = list(uniq_genres)\n",
    "print(uniq_genres)"
   ]
  },
  {
   "cell_type": "markdown",
   "id": "391a2d73",
   "metadata": {},
   "source": [
    "# another method clever here\n",
    "genre_rows = imdb_top[\"Genre\"].str.split(\",\")\n",
    "uniq_geners = set().union(*genre_rows)\n",
    "uniq_genres "
   ]
  },
  {
   "cell_type": "markdown",
   "id": "d2185016",
   "metadata": {},
   "source": [
    "# saving the uniq column names to csv"
   ]
  },
  {
   "cell_type": "code",
   "execution_count": null,
   "id": "4c21a8a7",
   "metadata": {},
   "outputs": [],
   "source": [
    "rows = [rating_average, \",\".join(columns_names), \",\".join(uniq_genres)]\n",
    "columns=[\"rating_average\", \"columns_names\", \"all_uniq_genres\"]\n",
    "final_result = pd.DataFrame([rows], columns=columns)\n",
    "final_result.head()\n",
    "##\n",
    "final_result.to_csv(\"final_result\", index=False)\n",
    "print(\"file saved\")"
   ]
  },
  {
   "cell_type": "code",
   "execution_count": null,
   "id": "643c64f2",
   "metadata": {},
   "outputs": [],
   "source": []
  }
 ],
 "metadata": {
  "jupytext": {
   "cell_metadata_filter": "-all",
   "main_language": "python",
   "notebook_metadata_filter": "-all"
  }
 },
 "nbformat": 4,
 "nbformat_minor": 5
}
